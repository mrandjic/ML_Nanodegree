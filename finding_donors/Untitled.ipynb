{
 "cells": [
  {
   "cell_type": "markdown",
   "metadata": {},
   "source": [
    "# Machine Learning Engineer Nanodegree Capstone Project"
   ]
  },
  {
   "cell_type": "code",
   "execution_count": 1,
   "metadata": {
    "collapsed": true
   },
   "outputs": [],
   "source": [
    "# Import libraries necessary for this project\n",
    "import numpy as np\n",
    "import pandas as pd\n",
    "from IPython.display import display # Allows the use of display() for DataFrames\n",
    "\n",
    "# Import supplementary visualization code visuals.py\n",
    "import visuals as vs\n",
    "# Pretty display for notebooks\n",
    "%matplotlib inline"
   ]
  },
  {
   "cell_type": "code",
   "execution_count": 2,
   "metadata": {},
   "outputs": [],
   "source": [
    "#Import data from file\n",
    "data = pd.read_csv('C:/Users/mrandjic/OneDrive - Telenor Serbia/Projects/capstone/roaming_add_on_dataset.txt', sep=\"\\t\")"
   ]
  },
  {
   "cell_type": "code",
   "execution_count": 3,
   "metadata": {},
   "outputs": [
    {
     "data": {
      "text/html": [
       "<div>\n",
       "<style>\n",
       "    .dataframe thead tr:only-child th {\n",
       "        text-align: right;\n",
       "    }\n",
       "\n",
       "    .dataframe thead th {\n",
       "        text-align: left;\n",
       "    }\n",
       "\n",
       "    .dataframe tbody tr th {\n",
       "        vertical-align: top;\n",
       "    }\n",
       "</style>\n",
       "<table border=\"1\" class=\"dataframe\">\n",
       "  <thead>\n",
       "    <tr style=\"text-align: right;\">\n",
       "      <th></th>\n",
       "      <th>TIME_ID</th>\n",
       "      <th>SERVICE_SEG</th>\n",
       "      <th>AP_NAME</th>\n",
       "      <th>ACT_MONTH</th>\n",
       "      <th>ACT_VOL</th>\n",
       "      <th>REV</th>\n",
       "      <th>NUM_OF_MONTHS</th>\n",
       "      <th>VOICE_VPN_MIN</th>\n",
       "      <th>VOICE_ONNET_MIN</th>\n",
       "      <th>VOICE_OFFNET_MIN</th>\n",
       "      <th>...</th>\n",
       "      <th>VOICE_ROAM_MIN</th>\n",
       "      <th>SMS_NAT</th>\n",
       "      <th>SMS_INT</th>\n",
       "      <th>SMS_ROAM</th>\n",
       "      <th>GPRS_ROAM_MB</th>\n",
       "      <th>GPRS_NAT_MB</th>\n",
       "      <th>MF_REV</th>\n",
       "      <th>US_REV</th>\n",
       "      <th>FLAG</th>\n",
       "      <th>SUBSCRIPTION_ID</th>\n",
       "    </tr>\n",
       "  </thead>\n",
       "  <tbody>\n",
       "    <tr>\n",
       "      <th>1</th>\n",
       "      <td>2017-07-01</td>\n",
       "      <td>Si</td>\n",
       "      <td>Travel Sure 10</td>\n",
       "      <td>7</td>\n",
       "      <td>59.584375</td>\n",
       "      <td>858.846875</td>\n",
       "      <td>2</td>\n",
       "      <td>58.046875</td>\n",
       "      <td>153.715625</td>\n",
       "      <td>279.565625</td>\n",
       "      <td>...</td>\n",
       "      <td>0.0</td>\n",
       "      <td>94.0625</td>\n",
       "      <td>2.8125</td>\n",
       "      <td>0.0</td>\n",
       "      <td>0.0</td>\n",
       "      <td>3378.146875</td>\n",
       "      <td>2602.34375</td>\n",
       "      <td>1259.478125</td>\n",
       "      <td>NO_TARGET</td>\n",
       "      <td>2907</td>\n",
       "    </tr>\n",
       "  </tbody>\n",
       "</table>\n",
       "<p>1 rows × 21 columns</p>\n",
       "</div>"
      ],
      "text/plain": [
       "      TIME_ID SERVICE_SEG         AP_NAME  ACT_MONTH    ACT_VOL         REV  \\\n",
       "1  2017-07-01          Si  Travel Sure 10          7  59.584375  858.846875   \n",
       "\n",
       "   NUM_OF_MONTHS  VOICE_VPN_MIN  VOICE_ONNET_MIN  VOICE_OFFNET_MIN  \\\n",
       "1              2      58.046875       153.715625        279.565625   \n",
       "\n",
       "        ...        VOICE_ROAM_MIN  SMS_NAT  SMS_INT  SMS_ROAM  GPRS_ROAM_MB  \\\n",
       "1       ...                   0.0  94.0625   2.8125       0.0           0.0   \n",
       "\n",
       "   GPRS_NAT_MB      MF_REV       US_REV       FLAG SUBSCRIPTION_ID  \n",
       "1  3378.146875  2602.34375  1259.478125  NO_TARGET            2907  \n",
       "\n",
       "[1 rows x 21 columns]"
      ]
     },
     "metadata": {},
     "output_type": "display_data"
    }
   ],
   "source": [
    "#Display the first row\n",
    "display(data.head(n=1))"
   ]
  },
  {
   "cell_type": "markdown",
   "metadata": {},
   "source": [
    "# Data exploration part"
   ]
  },
  {
   "cell_type": "code",
   "execution_count": 4,
   "metadata": {},
   "outputs": [
    {
     "name": "stdout",
     "output_type": "stream",
     "text": [
      "Total number of records: 367869\n",
      "Total number of no takers: 353087\n",
      "Total number of takers: 14782\n"
     ]
    }
   ],
   "source": [
    "#Display total number of records\n",
    "n_records = data.shape[0]\n",
    "\n",
    "#Display total number of no takers\n",
    "n_no_takers = data[(data.FLAG == \"NO_TARGET\")].shape[0]\n",
    "\n",
    "#Display total number of takers\n",
    "n_takers = data[(data.FLAG == \"TARGET\")].shape[0]\n",
    "\n",
    "# Print the results\n",
    "print(\"Total number of records: {}\".format(n_records))\n",
    "\n",
    "#Print total numer of roaming users that didn't buy add on\n",
    "print(\"Total number of no takers: {}\".format(n_no_takers))\n",
    "\n",
    "#Print total numer of roaming users that bought add on\n",
    "print(\"Total number of takers: {}\".format(n_takers))"
   ]
  },
  {
   "cell_type": "code",
   "execution_count": 11,
   "metadata": {},
   "outputs": [
    {
     "data": {
      "image/png": "[encoded data removed]",
      "text/plain": [
       "<matplotlib.figure.Figure at 0xd6dacd0>"
      ]
     },
     "metadata": {},
     "output_type": "display_data"
    }
   ],
   "source": [
    "import matplotlib.pyplot as plt\n",
    "\n",
    "# Plot frequeny hisotgram of roaming users for 12 months in order to check for seasonality\n",
    "freq_plot_all = plt.hist(data['ACT_MONTH'],normed=True, bins=24)\n",
    "# Plot frequeny hisotgram of roaming users for 12 months in order to check for seasonality\n",
    "freq_plot_no_takers =plt.hist(data[(data.FLAG == \"NO_TARGET\")]['ACT_MONTH'],normed=True, bins=24)\n",
    "# Plot frequeny hisotgram of roaming users for 12 months in order to check for seasonality\n",
    "freq_plot_takers =plt.hist(data[(data.FLAG == \"TARGET\")]['ACT_MONTH'],normed=True, bins=24)\n"
   ]
  },
  {
   "cell_type": "code",
   "execution_count": 312,
   "metadata": {},
   "outputs": [],
   "source": [
    "#plt.hist(data['REV'],normed=True, bins=24, range=[0, 5000])\n",
    "\n",
    "# Log-transform the skewed features\n",
    "skewed = ['REV',\n",
    "          'ACT_VOL',\n",
    "          'MF_REV', \n",
    "          \"VOICE_VPN_MIN\", \n",
    "          \"VOICE_ONNET_MIN\", \n",
    "          \"VOICE_OFFNET_MIN\", \n",
    "          \"VOICE_INT_MIN\", \n",
    "          \"VOICE_ROAM_MIN\",\n",
    "          \"SMS_NAT\",\n",
    "          \"SMS_INT\",\n",
    "          \"SMS_ROAM\",\n",
    "          \"GPRS_ROAM_MB\",\n",
    "          \"GPRS_NAT_MB\",\n",
    "          \"MF_REV\",\n",
    "          \"US_REV\"]\n",
    "\n",
    "features_raw  = data.drop('FLAG', axis = 1)\n",
    "features_raw[skewed] = data[skewed].apply(lambda x: np.log(x + 1))"
   ]
  },
  {
   "cell_type": "code",
   "execution_count": null,
   "metadata": {
    "collapsed": true
   },
   "outputs": [],
   "source": []
  },
  {
   "cell_type": "code",
   "execution_count": 114,
   "metadata": {},
   "outputs": [
    {
     "data": {
      "image/png": "[encoded data removed]",
      "text/plain": [
       "<matplotlib.figure.Figure at 0x19542f70>"
      ]
     },
     "metadata": {},
     "output_type": "display_data"
    }
   ],
   "source": [
    "#x = pd.DataFrame(features_raw[skewed])\n",
    "\n",
    "#plt.hist(x,normed=True)\n",
    "#s=plt.hist(data['MF_REV'],normed=True, bins=24, range=[0, 1000])\n",
    "\n",
    "S=plt.hist(features_raw['VOICE_VPN_MIN'])\n",
    "#features_raw['MF_REV']"
   ]
  },
  {
   "cell_type": "code",
   "execution_count": 37,
   "metadata": {},
   "outputs": [
    {
     "ename": "NameError",
     "evalue": "name 'features_raw' is not defined",
     "output_type": "error",
     "traceback": [
      "\u001b[1;31m---------------------------------------------------------------------------\u001b[0m",
      "\u001b[1;31mNameError\u001b[0m                                 Traceback (most recent call last)",
      "\u001b[1;32m<ipython-input-37-f9bf742a726c>\u001b[0m in \u001b[0;36m<module>\u001b[1;34m()\u001b[0m\n\u001b[0;32m      4\u001b[0m \u001b[1;31m# Initialize a scaler, then apply it to the features\u001b[0m\u001b[1;33m\u001b[0m\u001b[1;33m\u001b[0m\u001b[0m\n\u001b[0;32m      5\u001b[0m \u001b[0mscaler\u001b[0m \u001b[1;33m=\u001b[0m \u001b[0mMinMaxScaler\u001b[0m\u001b[1;33m(\u001b[0m\u001b[1;33m)\u001b[0m\u001b[1;33m\u001b[0m\u001b[0m\n\u001b[1;32m----> 6\u001b[1;33m \u001b[0mfeatures_scaled\u001b[0m \u001b[1;33m=\u001b[0m \u001b[0mfeatures_raw\u001b[0m\u001b[1;33m\u001b[0m\u001b[0m\n\u001b[0m\u001b[0;32m      7\u001b[0m \u001b[0mfeatures_scaled\u001b[0m\u001b[1;33m[\u001b[0m\u001b[0mskewed\u001b[0m\u001b[1;33m]\u001b[0m \u001b[1;33m=\u001b[0m \u001b[0mscaler\u001b[0m\u001b[1;33m.\u001b[0m\u001b[0mfit_transform\u001b[0m\u001b[1;33m(\u001b[0m\u001b[0mfeatures_raw\u001b[0m\u001b[1;33m[\u001b[0m\u001b[0mskewed\u001b[0m\u001b[1;33m]\u001b[0m\u001b[1;33m)\u001b[0m\u001b[1;33m\u001b[0m\u001b[0m\n",
      "\u001b[1;31mNameError\u001b[0m: name 'features_raw' is not defined"
     ]
    }
   ],
   "source": [
    "# Import sklearn.preprocessing.StandardScaler\n",
    "from sklearn.preprocessing import MinMaxScaler\n",
    "\n",
    "# Initialize a scaler, then apply it to the features\n",
    "scaler = MinMaxScaler()\n",
    "features_scaled = features_raw\n",
    "features_scaled[skewed] = scaler.fit_transform(features_raw[skewed])\n"
   ]
  },
  {
   "cell_type": "code",
   "execution_count": 117,
   "metadata": {},
   "outputs": [
    {
     "data": {
      "text/html": [
       "<div>\n",
       "<style>\n",
       "    .dataframe thead tr:only-child th {\n",
       "        text-align: right;\n",
       "    }\n",
       "\n",
       "    .dataframe thead th {\n",
       "        text-align: left;\n",
       "    }\n",
       "\n",
       "    .dataframe tbody tr th {\n",
       "        vertical-align: top;\n",
       "    }\n",
       "</style>\n",
       "<table border=\"1\" class=\"dataframe\">\n",
       "  <thead>\n",
       "    <tr style=\"text-align: right;\">\n",
       "      <th></th>\n",
       "      <th>TIME_ID</th>\n",
       "      <th>SERVICE_SEG</th>\n",
       "      <th>ACT_MONTH</th>\n",
       "      <th>ACT_VOL</th>\n",
       "      <th>REV</th>\n",
       "      <th>NUM_OF_MONTHS</th>\n",
       "      <th>VOICE_VPN_MIN</th>\n",
       "      <th>VOICE_ONNET_MIN</th>\n",
       "      <th>VOICE_OFFNET_MIN</th>\n",
       "      <th>VOICE_INT_MIN</th>\n",
       "      <th>...</th>\n",
       "      <th>VOICE_INT_REV_OUT</th>\n",
       "      <th>Avg_VOICE_ROAM_REV_OUT</th>\n",
       "      <th>Avg_SMS_NAT_REV_OUT</th>\n",
       "      <th>Avg_SMS_INT_REV_OUT</th>\n",
       "      <th>SMS_ROAM_REV_OUT</th>\n",
       "      <th>Avg_GPRS_NAT_REV_OUT</th>\n",
       "      <th>Avg_GPRS_ROAM_REV_OUT</th>\n",
       "      <th>MF_REV</th>\n",
       "      <th>US_REV</th>\n",
       "      <th>SUBSCRIPTION_ID</th>\n",
       "    </tr>\n",
       "  </thead>\n",
       "  <tbody>\n",
       "    <tr>\n",
       "      <th>1</th>\n",
       "      <td>2016-04-01</td>\n",
       "      <td>Br</td>\n",
       "      <td>4</td>\n",
       "      <td>0.208232</td>\n",
       "      <td>0.0</td>\n",
       "      <td>1</td>\n",
       "      <td>0.418574</td>\n",
       "      <td>0.141501</td>\n",
       "      <td>0.315828</td>\n",
       "      <td>0.0</td>\n",
       "      <td>...</td>\n",
       "      <td>0.0</td>\n",
       "      <td>0.0</td>\n",
       "      <td>0.0</td>\n",
       "      <td>0.0</td>\n",
       "      <td>0.0</td>\n",
       "      <td>0.0</td>\n",
       "      <td>0.0</td>\n",
       "      <td>0.531845</td>\n",
       "      <td>0.0</td>\n",
       "      <td>59397</td>\n",
       "    </tr>\n",
       "  </tbody>\n",
       "</table>\n",
       "<p>1 rows × 29 columns</p>\n",
       "</div>"
      ],
      "text/plain": [
       "      TIME_ID SERVICE_SEG  ACT_MONTH   ACT_VOL  REV  NUM_OF_MONTHS  \\\n",
       "1  2016-04-01          Br          4  0.208232  0.0              1   \n",
       "\n",
       "   VOICE_VPN_MIN  VOICE_ONNET_MIN  VOICE_OFFNET_MIN  VOICE_INT_MIN  \\\n",
       "1       0.418574         0.141501          0.315828            0.0   \n",
       "\n",
       "        ...         VOICE_INT_REV_OUT  Avg_VOICE_ROAM_REV_OUT  \\\n",
       "1       ...                       0.0                     0.0   \n",
       "\n",
       "   Avg_SMS_NAT_REV_OUT  Avg_SMS_INT_REV_OUT  SMS_ROAM_REV_OUT  \\\n",
       "1                  0.0                  0.0               0.0   \n",
       "\n",
       "   Avg_GPRS_NAT_REV_OUT  Avg_GPRS_ROAM_REV_OUT    MF_REV  US_REV  \\\n",
       "1                   0.0                    0.0  0.531845     0.0   \n",
       "\n",
       "   SUBSCRIPTION_ID  \n",
       "1            59397  \n",
       "\n",
       "[1 rows x 29 columns]"
      ]
     },
     "metadata": {},
     "output_type": "display_data"
    },
    {
     "data": {
      "image/png": "[encoded data removed]",
      "text/plain": [
       "<matplotlib.figure.Figure at 0x10781250>"
      ]
     },
     "metadata": {},
     "output_type": "display_data"
    }
   ],
   "source": [
    "S=plt.hist(features_scaled['VOICE_VPN_MIN'])\n",
    "# Show an example of a record with scaling applied\n",
    "display(features_raw.head(n = 1))"
   ]
  },
  {
   "cell_type": "code",
   "execution_count": 5,
   "metadata": {
    "collapsed": true
   },
   "outputs": [],
   "source": [
    "# Perform One-Hot Encoding to categorical features \n",
    "def encode_features(data_set): \n",
    "    \n",
    "    TIME_ID = data['TIME_ID'] \n",
    "    FLAG    = data['FLAG'] \n",
    "    \n",
    "    data_set = data_set.drop(['TIME_ID','FLAG'], axis=1)\n",
    "    data_set['ACT_MONTH'] = data_set.ACT_MONTH.astype(str)\n",
    "    data_set = pd.get_dummies(data_set)\n",
    "    \n",
    "    data_set = pd.concat([data_set, TIME_ID], axis=1)#.reset_index(drop=True)\n",
    "    data_set = pd.concat([data_set, FLAG], axis=1)#.reset_index(drop=True)\n",
    "    \n",
    "    encoded = list(data_set.columns)\n",
    "    print (\"{} total features after one-hot encoding.\".format(len(encoded)))\n",
    "    \n",
    "    return(data_set)"
   ]
  },
  {
   "cell_type": "code",
   "execution_count": 6,
   "metadata": {},
   "outputs": [
    {
     "name": "stdout",
     "output_type": "stream",
     "text": [
      "37 total features after one-hot encoding.\n"
     ]
    }
   ],
   "source": [
    "# Preprocess dataset\n",
    "import datetime as dt\n",
    "\n",
    "#Convert TIME_ID to dates, in order to make dates manupulation easier\n",
    "data['TIME_ID'] = [dt.datetime.strptime(date, '%Y-%m-%d').date() for date in data['TIME_ID']]\n",
    "\n",
    "# Encode labels to {0,1}\n",
    "data['FLAG']    = data['FLAG'].replace([\"NO_TARGET\",\"TARGET\"],[0,1])\n",
    "\n",
    "# Perform One-Hot Encoding to categorical variables\n",
    "data = encode_features(data)\n"
   ]
  },
  {
   "cell_type": "code",
   "execution_count": 7,
   "metadata": {},
   "outputs": [],
   "source": [
    "#Define train and test set ranges\n",
    "\n",
    "start_train_dt = dt.datetime.strptime(\"2016-04-01\", '%Y-%m-%d').date()\n",
    "end_train_dt   = dt.datetime.strptime(\"2017-04-01\", '%Y-%m-%d').date()\n",
    "\n",
    "start_test_dt  = dt.datetime.strptime(\"2017-05-01\", '%Y-%m-%d').date()\n",
    "end_test_dt    = dt.datetime.strptime(\"2017-07-01\", '%Y-%m-%d').date()\n"
   ]
  },
  {
   "cell_type": "code",
   "execution_count": 17,
   "metadata": {},
   "outputs": [],
   "source": [
    "#Generate train set with random fraction sampling from NO_TARGET class\n",
    "\n",
    "train_set = data[(data['TIME_ID'] >= start_train_dt) & (data['TIME_ID'] <= end_train_dt)]\n",
    "\n",
    "train_set_no_target = pd.DataFrame(train_set[(train_set['FLAG'] == 0)])\n",
    "train_set_target    = train_set[(train_set['FLAG'] == 1)]\n",
    "\n",
    "train_set_no_target = train_set_no_target.groupby(['TIME_ID'])#, 'SERVICE_SEG'\n",
    "train_set_no_target= train_set_no_target.apply(lambda x: x.sample(frac=0.3))\n",
    "\n",
    "train_set = pd.concat([train_set_no_target, train_set_target])\n",
    "\n",
    "#train_set_no_target.shape[0]"
   ]
  },
  {
   "cell_type": "code",
   "execution_count": 18,
   "metadata": {
    "collapsed": true
   },
   "outputs": [],
   "source": [
    "\n",
    "# Log-transform the skewed features of train set \n",
    "pre_proc= ['REV',\n",
    "          'ACT_VOL',\n",
    "          'MF_REV', \n",
    "          \"VOICE_VPN_MIN\", \n",
    "          \"VOICE_ONNET_MIN\", \n",
    "          \"VOICE_OFFNET_MIN\", \n",
    "          \"VOICE_INT_MIN\", \n",
    "          \"VOICE_ROAM_MIN\",\n",
    "          \"SMS_NAT\",\n",
    "          \"SMS_INT\",\n",
    "          \"SMS_ROAM\",\n",
    "          \"GPRS_ROAM_MB\",\n",
    "          \"GPRS_NAT_MB\",\n",
    "          \"MF_REV\",\n",
    "          \"US_REV\"]\n",
    "\n",
    "train_set[pre_proc] = train_set[pre_proc].apply(lambda x: np.log(x + 1))\n",
    "\n"
   ]
  },
  {
   "cell_type": "code",
   "execution_count": 19,
   "metadata": {},
   "outputs": [],
   "source": [
    "# Import sklearn.preprocessing.StandardScaler\n",
    "from sklearn.preprocessing import MinMaxScaler\n",
    "\n",
    "# Initialize a scaler, then apply it to the features\n",
    "scaler = MinMaxScaler()\n",
    "train_set[pre_proc] = scaler.fit_transform(train_set[pre_proc])\n",
    "\n",
    "# Show an example of a record with scaling applied\n",
    "#display(train_set.head(n = 1))"
   ]
  },
  {
   "cell_type": "code",
   "execution_count": 20,
   "metadata": {},
   "outputs": [],
   "source": [
    "# Preprocess training set \n",
    "\n",
    "train_set_features = train_set.drop(['FLAG', 'TIME_ID', 'SUBSCRIPTION_ID'], axis = 1)\n",
    "train_set_labels   = train_set['FLAG']\n"
   ]
  },
  {
   "cell_type": "code",
   "execution_count": 22,
   "metadata": {},
   "outputs": [],
   "source": [
    "# Define and preprocess test sets\n",
    "\n",
    "# Import sklearn.preprocessing.StandardScaler\n",
    "from sklearn.preprocessing import MinMaxScaler\n",
    "\n",
    "temp_dt = start_test_dt\n",
    "test_sets_features = {}\n",
    "test_sets_labels   = {}\n",
    "\n",
    "index = 1\n",
    "\n",
    "while temp_dt <= end_test_dt:\n",
    "\n",
    "    temp_test_set = pd.DataFrame(data[(data['TIME_ID'] == temp_dt)])\n",
    "    \n",
    "    # Log-transform the skewed features of train set \n",
    "    temp_test_set[pre_proc] = temp_test_set[pre_proc].apply(lambda x: np.log(x + 1))\n",
    "    \n",
    "    # Initialize a scaler, then apply it to the features\n",
    "    scaler = MinMaxScaler()\n",
    "    temp_test_set[pre_proc] = scaler.fit_transform(temp_test_set[pre_proc])\n",
    "\n",
    "    #put preprocessed test set to collection\n",
    "    test_sets_features[index] = temp_test_set.drop(['FLAG', 'TIME_ID'], axis = 1)#, 'SUBSCRIPTION_ID'\n",
    "    test_sets_labels[index]   = temp_test_set['FLAG']\n",
    "    \n",
    "    temp_year  = temp_dt.year\n",
    "    temp_month = temp_dt.month\n",
    "    \n",
    "    if temp_month == 12: \n",
    "        temp_year = temp_year + 1\n",
    "    \n",
    "    temp_month = (temp_dt.month+1)%12\n",
    "    if temp_month == 0:\n",
    "        temp_month=12\n",
    "        \n",
    "    temp_dt = dt.datetime(temp_year, temp_month, temp_dt.day).date()\n",
    "    index = index + 1\n",
    "    "
   ]
  },
  {
   "cell_type": "code",
   "execution_count": null,
   "metadata": {
    "collapsed": true
   },
   "outputs": [],
   "source": []
  }
 ],
 "metadata": {
  "kernelspec": {
   "display_name": "Python 3",
   "language": "python",
   "name": "python3"
  },
  "language_info": {
   "codemirror_mode": {
    "name": "ipython",
    "version": 3
   },
   "file_extension": ".py",
   "mimetype": "text/x-python",
   "name": "python",
   "nbconvert_exporter": "python",
   "pygments_lexer": "ipython3",
   "version": "3.6.1"
  }
 },
 "nbformat": 4,
 "nbformat_minor": 2
}
